{
  "cells": [
    {
      "cell_type": "code",
      "execution_count": null,
      "metadata": {
        "collapsed": false
      },
      "outputs": [],
      "source": [
        "%matplotlib inline"
      ]
    },
    {
      "cell_type": "markdown",
      "metadata": {},
      "source": [
        "\nGridding with Scipy\n===================\n\nScipy offers a range of interpolation methods in :mod:`scipy.interpolate` and 3\nspecifically for 2D data (linear, nearest neighbors, and bicubic). Verde offers\nan interface for these 3 scipy interpolators in :class:`verde.ScipyGridder`.\n\nAll of these interpolations work on Cartesian data, so if we want to grid\ngeographic data (like our Baja California bathymetry) we need to project them\ninto a Cartesian system. We'll use\n`pyproj <https://github.com/jswhit/pyproj>`__ to calculate a Mercator\nprojection for the data.\n\nFor convenience, Verde still allows us to make geographic grids by passing the\n``projection`` argument to :meth:`verde.ScipyGridder.grid` and the like. When\ndoing so, the grid will be generated using geographic coordinates which will be\nprojected prior to interpolation.\n\n"
      ]
    },
    {
      "cell_type": "code",
      "execution_count": null,
      "metadata": {
        "collapsed": false
      },
      "outputs": [],
      "source": [
        "import matplotlib.pyplot as plt\nimport cartopy.crs as ccrs\nimport cartopy.feature as cfeature\nimport pyproj\nimport numpy as np\nimport verde as vd\n\n# We'll test this on the Baja California shipborne bathymetry data\ndata = vd.datasets.fetch_baja_bathymetry()\n\n# Before gridding, we need to decimate the data to avoid aliasing because of\n# the oversampling along the ship tracks. We'll use a blocked median with 5\n# arc-minute blocks.\nspacing = 5/60\nlon, lat, bathymetry = vd.block_reduce(data.longitude, data.latitude,\n                                       data.bathymetry_m, reduction=np.median,\n                                       spacing=spacing)\n\n# Project the data using pyproj so that we can use it as input for the gridder.\n# We'll set the latitude of true scale to the mean latitude of the data.\nprojection = pyproj.Proj(proj='merc', lat_ts=data.latitude.mean())\neasting, northing = projection(lon, lat)\n\n# Now we can set up a gridder for the decimated data\ngrd = vd.ScipyGridder(method='cubic').fit(easting, northing, bathymetry)\nprint(\"Gridder used:\", grd)\n\n# Get the grid region in geographic coordinates\nregion = vd.get_region(data.longitude, data.latitude)\nprint(\"Data region:\", region)\n\n# The 'grid' method can still make a geographic grid if we pass in a projection\n# function that converts lon, lat into the easting, northing coordinates that\n# we used in 'fit'. This can be any function that takes lon, lat and returns x,\n# y. In our case, it'll be the 'projection' variable that we created above.\n# We'll also set the names of the grid dimensions and the name the data\n# variable in our grid (the default would be 'scalars', which isn't very\n# informative).\ngrid = grd.grid(region=region, spacing=spacing, projection=projection,\n                dims=['latitude', 'longitude'], data_names=['bathymetry_m'])\nprint(\"Generated geographic grid:\")\nprint(grid)\n\n# Cartopy requires setting the coordinate reference system (CRS) of the\n# original data through the transform argument. Their docs say to use\n# PlateCarree to represent geographic data.\ncrs = ccrs.PlateCarree()\n\nplt.figure(figsize=(7, 6))\n# Make a Mercator map of our gridded bathymetry\nax = plt.axes(projection=ccrs.Mercator())\nax.set_title(\"Gridded Bathymetry Using Scipy\", pad=25)\n# Plot the gridded bathymetry\npc = ax.pcolormesh(grid.longitude, grid.latitude, grid.bathymetry_m,\n                   transform=crs, vmax=0)\ncb = plt.colorbar(pc, pad=0.08)\ncb.set_label('bathymetry [m]')\n# Plot the locations of the decimated data\nax.plot(lon, lat, '.k', markersize=0.5, transform=crs)\n# Plot the land as a solid color\nax.add_feature(cfeature.LAND, edgecolor='black', zorder=2)\nax.set_extent(region, crs=crs)\nax.gridlines(draw_labels=True)\nplt.tight_layout()\nplt.show()"
      ]
    }
  ],
  "metadata": {
    "kernelspec": {
      "display_name": "Python 3",
      "language": "python",
      "name": "python3"
    },
    "language_info": {
      "codemirror_mode": {
        "name": "ipython",
        "version": 3
      },
      "file_extension": ".py",
      "mimetype": "text/x-python",
      "name": "python",
      "nbconvert_exporter": "python",
      "pygments_lexer": "ipython3",
      "version": "3.6.5"
    }
  },
  "nbformat": 4,
  "nbformat_minor": 0
}