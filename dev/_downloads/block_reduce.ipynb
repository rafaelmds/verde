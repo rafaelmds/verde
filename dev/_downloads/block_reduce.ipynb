{
  "cells": [
    {
      "cell_type": "code",
      "execution_count": null,
      "metadata": {
        "collapsed": false
      },
      "outputs": [],
      "source": [
        "%matplotlib inline"
      ]
    },
    {
      "cell_type": "markdown",
      "metadata": {},
      "source": [
        "\nData decimation in blocks\n=========================\n\nWhen gridding data that has been highly oversampled in a direction (shipborne\nand airborne data, for example), it is important to decimate the data before\ninterpolation to avoid aliasing. Function :func:`verde.block_reduce` decimates\ndata by applying a reduction operation (mean, median, mode, max, etc) to the\ndata in blocks. For non-smooth data, like bathymetry, a blocked median filter\nis a good choice.\n\n"
      ]
    },
    {
      "cell_type": "code",
      "execution_count": null,
      "metadata": {
        "collapsed": false
      },
      "outputs": [],
      "source": [
        "import matplotlib.pyplot as plt\nimport cartopy.crs as ccrs\nimport cartopy.feature as cfeature\nimport numpy as np\nimport verde as vd\n\n# We'll test this on the Baja California shipborne bathymetry data\ndata = vd.datasets.fetch_baja_bathymetry()\n\n# Decimate the data using a blocked median with 10 arc-minute blocks\nlon, lat, bathymetry = vd.block_reduce(\n    data.longitude, data.latitude, data.bathymetry_m,\n    reduction=np.median, spacing=10/60)\n\nprint(\"Original data size:\", data.bathymetry_m.size)\nprint(\"Decimated data size:\", bathymetry.size)\n\n# Make a plot of the decimated data using Cartopy\nplt.figure(figsize=(7, 6))\nax = plt.axes(projection=ccrs.Mercator())\nax.set_title(\"10' Block Median Bathymetry\", pad=25)\n# Plot the land as a solid color\nax.add_feature(cfeature.LAND, edgecolor='black')\n# Plot the bathymetry as colored circles.\n# Cartopy requires setting the projection of the original data through the\n# transform argument. Use PlateCarree for geographic data.\nplt.scatter(lon, lat, c=bathymetry, s=5, transform=ccrs.PlateCarree())\ncb = plt.colorbar(pad=0.08)\ncb.set_label('meters')\nax.gridlines(draw_labels=True)\nplt.tight_layout()\nplt.show()"
      ]
    }
  ],
  "metadata": {
    "kernelspec": {
      "display_name": "Python 3",
      "language": "python",
      "name": "python3"
    },
    "language_info": {
      "codemirror_mode": {
        "name": "ipython",
        "version": 3
      },
      "file_extension": ".py",
      "mimetype": "text/x-python",
      "name": "python",
      "nbconvert_exporter": "python",
      "pygments_lexer": "ipython3",
      "version": "3.6.5"
    }
  },
  "nbformat": 4,
  "nbformat_minor": 0
}