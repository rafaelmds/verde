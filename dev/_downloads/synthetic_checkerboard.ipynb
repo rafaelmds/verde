{
  "cells": [
    {
      "cell_type": "code",
      "execution_count": null,
      "metadata": {
        "collapsed": false
      },
      "outputs": [],
      "source": [
        "%matplotlib inline"
      ]
    },
    {
      "cell_type": "markdown",
      "metadata": {},
      "source": [
        "\nCheckerboard function\n=====================\n\nThe :class:`verde.datasets.CheckerBoard` class generates synthetic data in a\ncheckerboard pattern. Use it like any gridder class.\n\n"
      ]
    },
    {
      "cell_type": "code",
      "execution_count": null,
      "metadata": {
        "collapsed": false
      },
      "outputs": [],
      "source": [
        "import matplotlib.pyplot as plt\nimport verde as vd\n\n# Instantiate the data generator class and fit it to set the data region.\nsynth = vd.datasets.CheckerBoard().fit()\n\n# Default values are provided for the region and the wavelengths of the\n# function (these are determined from the region).\nprint(\"region:\", synth.region_)\nprint(\"wavelengths (east, north):\", synth.w_east, synth.w_north)\n\n# The CheckerBoard class behaves like any gridder class\nprint(\"Checkerboard value at (2000, -2500):\",\n      synth.predict(easting=2000, northing=-2500))\n\n# Generating a grid results in a xarray.Dataset\ngrid = synth.grid()\nprint(\"\\nData grid:\\n\", grid)\n\n# while a random scatter generates a pandas.DataFrame\ntable = synth.scatter(size=100)\nprint(\"\\nTable of scattered data:\\n\", table.head())\n\nfig = plt.figure(figsize=(5.5, 4))\nax = plt.subplot(111)\nax.set_title('CheckerBoard')\nax.set_aspect('equal')\ngrid.scalars.plot.pcolormesh(ax=ax)\nplt.tight_layout(pad=0)\nplt.show()"
      ]
    }
  ],
  "metadata": {
    "kernelspec": {
      "display_name": "Python 3",
      "language": "python",
      "name": "python3"
    },
    "language_info": {
      "codemirror_mode": {
        "name": "ipython",
        "version": 3
      },
      "file_extension": ".py",
      "mimetype": "text/x-python",
      "name": "python",
      "nbconvert_exporter": "python",
      "pygments_lexer": "ipython3",
      "version": "3.6.5"
    }
  },
  "nbformat": 4,
  "nbformat_minor": 0
}