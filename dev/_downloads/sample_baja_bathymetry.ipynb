{
  "cells": [
    {
      "cell_type": "code",
      "execution_count": null,
      "metadata": {
        "collapsed": false
      },
      "outputs": [],
      "source": [
        "%matplotlib inline"
      ]
    },
    {
      "cell_type": "markdown",
      "metadata": {},
      "source": [
        "\nBathymetry data from Baja California\n====================================\n\nWe provide sample bathymetry data from Baja California to test the gridding\nmethods. This is the ``@tut_ship.xyz`` sample data from the `GMT\n<http://gmt.soest.hawaii.edu/>`__ tutorial. The data is downloaded to a local\ndirectory if it's not there already.\n\n"
      ]
    },
    {
      "cell_type": "code",
      "execution_count": null,
      "metadata": {
        "collapsed": false
      },
      "outputs": [],
      "source": [
        "import matplotlib.pyplot as plt\nimport cartopy.crs as ccrs\nimport cartopy.feature as cfeature\nfrom verde.datasets import fetch_baja_bathymetry\n\n\n# The data are in a pandas.DataFrame\ndata = fetch_baja_bathymetry()\nprint(data.head())\n\n# Make a plot of the data using Cartopy to handle projections and coastlines\nplt.figure(figsize=(7, 6))\nax = plt.axes(projection=ccrs.Mercator())\nax.set_title('Bathymetry from Baja California', pad=25)\n# Plot the land as a solid color\nax.add_feature(cfeature.LAND, edgecolor='black')\n# Plot the bathymetry as colored circles.\n# Cartopy requires setting the projection of the original data through the\n# transform argument. Use PlateCarree for geographic data.\nplt.scatter(data.longitude, data.latitude, c=data.bathymetry_m, s=0.1,\n            transform=ccrs.PlateCarree())\ncb = plt.colorbar(pad=0.08)\ncb.set_label('meters')\nax.gridlines(draw_labels=True)\nplt.tight_layout()\nplt.show()"
      ]
    }
  ],
  "metadata": {
    "kernelspec": {
      "display_name": "Python 3",
      "language": "python",
      "name": "python3"
    },
    "language_info": {
      "codemirror_mode": {
        "name": "ipython",
        "version": 3
      },
      "file_extension": ".py",
      "mimetype": "text/x-python",
      "name": "python",
      "nbconvert_exporter": "python",
      "pygments_lexer": "ipython3",
      "version": "3.6.5"
    }
  },
  "nbformat": 4,
  "nbformat_minor": 0
}