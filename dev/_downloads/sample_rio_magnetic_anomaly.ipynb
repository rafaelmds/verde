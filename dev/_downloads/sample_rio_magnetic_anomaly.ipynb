{
  "cells": [
    {
      "cell_type": "code",
      "execution_count": null,
      "metadata": {
        "collapsed": false
      },
      "outputs": [],
      "source": [
        "%matplotlib inline"
      ]
    },
    {
      "cell_type": "markdown",
      "metadata": {},
      "source": [
        "\nMagnetic data from Rio de Janeiro\n=================================\n\nWe provide sample total-field magnetic anomaly data from an airborne survey of\nRio de Janeiro, Brazil, from the 1970s. The data are made available by the\nGeological Survey of Brazil (CPRM) through their `GEOSGB portal\n<http://geosgb.cprm.gov.br/>`__. See the documentation for\n:func:`verde.datasets.fetch_rio_magnetic_anomaly` for more details.\n\n"
      ]
    },
    {
      "cell_type": "code",
      "execution_count": null,
      "metadata": {
        "collapsed": false
      },
      "outputs": [],
      "source": [
        "import matplotlib.pyplot as plt\nimport cartopy.crs as ccrs\nimport numpy as np\nimport verde as vd\n\n# The data are in a pandas.DataFrame\ndata = vd.datasets.fetch_rio_magnetic_anomaly()\nprint(data.head())\n\n# Make a Mercator plot of the data using Cartopy\nplt.figure(figsize=(7, 5))\nax = plt.axes(projection=ccrs.Mercator())\nax.set_title('Total-field Magnetic Anomaly of Rio de Janeiro', pad=25)\n# Since the data is diverging (going from negative to positive)\n# we need to center our colorbar on 0. To do this, we calculate\n# the maximum absolute value of the data to set vmin and vmax.\nmaxabs = np.max(np.abs([data.total_field_anomaly_nt.min(),\n                        data.total_field_anomaly_nt.max()]))\n# Cartopy requires setting the projection of the original data through the\n# transform argument. Use PlateCarree for geographic data.\nplt.scatter(data.longitude, data.latitude, c=data.total_field_anomaly_nt,\n            s=1, cmap='seismic', vmin=-maxabs, vmax=maxabs,\n            transform=ccrs.PlateCarree())\ncb = plt.colorbar(pad=0.1)\ncb.set_label('nT')\nax.gridlines(draw_labels=True)\n# Set the extent of the plot to the limits of the data\nax.set_extent(vd.get_region(data.longitude, data.latitude))\nplt.tight_layout()\nplt.show()"
      ]
    }
  ],
  "metadata": {
    "kernelspec": {
      "display_name": "Python 3",
      "language": "python",
      "name": "python3"
    },
    "language_info": {
      "codemirror_mode": {
        "name": "ipython",
        "version": 3
      },
      "file_extension": ".py",
      "mimetype": "text/x-python",
      "name": "python",
      "nbconvert_exporter": "python",
      "pygments_lexer": "ipython3",
      "version": "3.6.5"
    }
  },
  "nbformat": 4,
  "nbformat_minor": 0
}